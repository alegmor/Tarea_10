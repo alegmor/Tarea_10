{
 "cells": [
  {
   "cell_type": "markdown",
   "id": "98f84e3e",
   "metadata": {
    "deletable": false,
    "editable": false,
    "nbgrader": {
     "cell_type": "markdown",
     "checksum": "1254d6b55ce51209acfb0f616a0ef87a",
     "grade": false,
     "grade_id": "cell-2d641f6532399173",
     "locked": true,
     "schema_version": 3,
     "solution": false,
     "task": false
    }
   },
   "source": [
    "<div>\n",
    "<img align=\"center\"\n",
    "src=\"Images/banner.png\" width=\"950\" height=\"9500\"/>\n",
    "</div>\n",
    "\n",
    "<font color='#09427D'><center>**CAPITULO 4: CONDUCCIÓN BIDIMENSIONAL EN ESTADO ESTABLE**</font>\n",
    "        \n",
    "<font color='#09427D'><center>**METODO DE SEPARACIÓN DE VARIABLES**</font>\n",
    "\n",
    "    "
   ]
  },
  {
   "cell_type": "markdown",
   "id": "43e74087",
   "metadata": {
    "deletable": false,
    "editable": false,
    "nbgrader": {
     "cell_type": "markdown",
     "checksum": "f531482668f9f6f3e8caabe638d732dc",
     "grade": false,
     "grade_id": "cell-19ceef645f2529af",
     "locked": true,
     "schema_version": 3,
     "solution": false,
     "task": false
    }
   },
   "source": [
    "<div>\n",
    "<img align=\"center\"\n",
    "src=\"Images/2D-HEQ.jpg\" width=\"300\" height=\"300\"/>\n",
    "</div>"
   ]
  },
  {
   "cell_type": "markdown",
   "id": "9ee1e167",
   "metadata": {
    "deletable": false,
    "editable": false,
    "nbgrader": {
     "cell_type": "markdown",
     "checksum": "d7240363c2b2a661c093b3b62a84c8b0",
     "grade": false,
     "grade_id": "cell-4c336717c28ce793",
     "locked": true,
     "schema_version": 3,
     "solution": false,
     "task": false
    }
   },
   "source": [
    "En condiciones de estado estable en dos dimensiones, sin generación y con una conductividad térmica constante, la ecuación de calor es\n",
    "\n",
    "$$ \\frac{\\partial^2 \\theta}{\\partial x^2} + \\frac{\\partial^2 \\theta}{\\partial y^2} = 0.$$\n",
    "\n",
    "Las condiciones de frontera son\n",
    "\n",
    "$$\\theta(0,y)=0, \\qquad \\theta(x,0)=0$$\n",
    "\n",
    "$$\\theta(L,y)=0,\\qquad \\theta(x,W)=1$$\n",
    "\n",
    "La solución de la ecuación de calor es\n",
    "\n",
    "$$\\theta(x,y) = \\dfrac{2}{\\pi} \\sum_{n=1}^{\\infty} \\dfrac{(-1)^{n+1}+1}{n} \\sin \\dfrac{n \\pi x}{L} \\dfrac{\\sinh(n \\pi y/L)}{\\sinh(n\\pi W/L)} $$\n",
    "\n",
    "(a) Crea una función para la distribución de temperatura $\\theta(x,y)$ y grafica las isotermas con $L=100$, $W=100$ y $N=100$. "
   ]
  },
  {
   "cell_type": "code",
   "execution_count": null,
   "id": "a016a9a1",
   "metadata": {
    "deletable": false,
    "editable": false,
    "nbgrader": {
     "cell_type": "code",
     "checksum": "339b27d6aa5ed961db7d1c05f45b7a39",
     "grade": false,
     "grade_id": "cell-7e174e06d57f47ba",
     "locked": true,
     "schema_version": 3,
     "solution": false,
     "task": false
    }
   },
   "outputs": [],
   "source": [
    "import numpy as np\n",
    "import matplotlib.pyplot as plt\n",
    "sin,cos,sinh,cosh,pi  = np.sin,np.cos,np.sinh,np.cosh,np.pi"
   ]
  },
  {
   "cell_type": "code",
   "execution_count": null,
   "id": "c7e921f8",
   "metadata": {
    "deletable": false,
    "nbgrader": {
     "cell_type": "code",
     "checksum": "8fab996aefcdefd479cbc6713d810ede",
     "grade": false,
     "grade_id": "cell-813af4e9f1713767",
     "locked": false,
     "schema_version": 3,
     "solution": true,
     "task": false
    }
   },
   "outputs": [],
   "source": [
    "def T(x,y,L,W,N):\n",
    "    # YOUR CODE HERE\n",
    "    raise NotImplementedError()\n",
    "    return T  "
   ]
  },
  {
   "cell_type": "code",
   "execution_count": null,
   "id": "8b980652",
   "metadata": {},
   "outputs": [],
   "source": [
    "L    = 100\n",
    "W    = 100\n",
    "x    = np.linspace(0,L, 100)\n",
    "y    = np.linspace(0,W,100)\n",
    "N    = 100\n",
    "X, Y = np.meshgrid(x, y)\n",
    "Z    = T(X,Y,L,W,N)\n",
    "k    = 0.1"
   ]
  },
  {
   "cell_type": "code",
   "execution_count": null,
   "id": "825e2b17",
   "metadata": {
    "deletable": false,
    "editable": false,
    "nbgrader": {
     "cell_type": "code",
     "checksum": "de5b0254ab5504aa28dc33b9f86d7fef",
     "grade": false,
     "grade_id": "cell-6c82cdd6d6f5a6d8",
     "locked": true,
     "schema_version": 3,
     "solution": false,
     "task": false
    }
   },
   "outputs": [],
   "source": [
    "#3d\n",
    "%matplotlib notebook\n",
    "\n",
    "plt.figure(figsize=(8,8))\n",
    "ax= plt.axes(projection='3d')\n",
    "ax.set_xlabel(\"$X$\")\n",
    "ax.set_ylabel(\"$Y$\")\n",
    "ax.set_zlabel(\"$T$\")\n",
    "\n",
    "ax.set_xlim(-10, 100)\n",
    "ax.set_ylim(-10, 150)\n",
    "ax.set_zlim(-0.5, 1.5)\n",
    "\n",
    "ax.plot_surface(X,Y,Z,cmap='hot', alpha=0.75)\n",
    "contours = ax.contour(X, Y, Z,zdir='z',levels= 10, colors='black', offset=-0.5, alpha=1)\n",
    "ax.clabel(contours, inline=True, fontsize=10)\n",
    "ax.contour(X, Y, Z, zdir='x', offset=-10,levels=12, colors='black', alpha=1)\n",
    "ax.contour(X, Y, Z, zdir='y', offset=150,levels=10, colors='black', alpha=1)\n",
    "plt.show()"
   ]
  },
  {
   "cell_type": "code",
   "execution_count": null,
   "id": "d70e418b",
   "metadata": {},
   "outputs": [],
   "source": [
    "%matplotlib inline\n",
    "plt.figure(figsize=(10,10))\n",
    "contours = plt.contour(X, Y, Z,levels= 10, colors='black')\n",
    "plt.clabel(contours, inline=True, fontsize=10)\n",
    "plt.imshow(Z, origin='lower',cmap='viridis', alpha=0.5)\n",
    "plt.xlabel(\"$X$\")\n",
    "plt.ylabel(\"$Y$\")\n",
    "plt.show()"
   ]
  },
  {
   "cell_type": "markdown",
   "id": "e84ef91f",
   "metadata": {
    "deletable": false,
    "editable": false,
    "nbgrader": {
     "cell_type": "markdown",
     "checksum": "309e4c812f9ba61580710ea27cd8f3b0",
     "grade": false,
     "grade_id": "cell-a5088fbcd6d9935f",
     "locked": true,
     "schema_version": 3,
     "solution": false,
     "task": false
    }
   },
   "source": [
    "(b) Calcula el flujo de calor $\\mathbf{q}$ con la Ley de Fourier\n",
    "\n",
    "$$ \\mathbf{q} = -k \\nabla T,$$\n",
    "\n",
    "crea una función y grafica las líneas de flujo con $k=0.1$.\n",
    "\n",
    "Nota: toma como referencia la figura 4.3 del libro Fundamentos de Transferencia de Calor y de Masa – Frank P. Incropera – 6ta Edición.\n",
    "\n",
    "<div>\n",
    "<img align=\"center\"\n",
    "src=\"Images/2D-HEQ-1.jpg\" width=\"500\" height=\"500\"/>\n",
    "</div>"
   ]
  },
  {
   "cell_type": "code",
   "execution_count": null,
   "id": "f2ebe472",
   "metadata": {
    "deletable": false,
    "nbgrader": {
     "cell_type": "code",
     "checksum": "1fea5c931328a2613d0e71cb385ec908",
     "grade": false,
     "grade_id": "cell-f1257ad38d788c17",
     "locked": false,
     "schema_version": 3,
     "solution": true,
     "task": false
    }
   },
   "outputs": [],
   "source": [
    "#líneas de flujo\n",
    "def Q(x,y,k,W,L,N):\n",
    "    qx = x*0\n",
    "    qy = x*0\n",
    "    # YOUR CODE HERE\n",
    "    raise NotImplementedError()\n",
    "    return qx,qy  "
   ]
  },
  {
   "cell_type": "code",
   "execution_count": null,
   "id": "16a1cad5",
   "metadata": {},
   "outputs": [],
   "source": [
    "#heat flux\n",
    "qx,qy = Q(X,Y,k,W,L,N)\n",
    "plt.figure(figsize=(5,5))\n",
    "plt.contour(X, Y, Z,levels= 13, colors='black')\n",
    "plt.streamplot(X,Y,qx,qy,density=0.3,broken_streamlines=False,color='black',cmap='autumn',arrowstyle ='->',arrowsize = 1)\n",
    "plt.show()"
   ]
  }
 ],
 "metadata": {
  "kernelspec": {
   "display_name": "Python 3 (ipykernel)",
   "language": "python",
   "name": "python3"
  },
  "language_info": {
   "codemirror_mode": {
    "name": "ipython",
    "version": 3
   },
   "file_extension": ".py",
   "mimetype": "text/x-python",
   "name": "python",
   "nbconvert_exporter": "python",
   "pygments_lexer": "ipython3",
   "version": "3.9.7"
  }
 },
 "nbformat": 4,
 "nbformat_minor": 5
}
